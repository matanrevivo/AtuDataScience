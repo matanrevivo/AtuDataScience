{
  "cells": [
    {
      "cell_type": "markdown",
      "metadata": {
        "pycharm": {}
      },
      "source": "# Armis Data Hack Challenge - Solution Example"
    },
    {
      "cell_type": "markdown",
      "metadata": {
        "pycharm": {}
      },
      "source": [
        "In this example we will detect anomalies on each network using Elliptic Envelope Algorithm. As this is only an example, our feature set will consist of only five features: unique hosts count, unique port count and total packets transferred. \u003cbr\u003e\n",
        "Let\u0027s start :)"
      ]
    },
    {
      "cell_type": "markdown",
      "metadata": {
        "pycharm": {}
      },
      "source": [
        "# Imports and Consts"
      ]
    },
    {
      "cell_type": "code",
      "execution_count": 1,
      "metadata": {
        "pycharm": {}
      },
      "outputs": [],
      "source": [
        "import pandas as pd\n",
        "import datetime"
      ]
    },
    {
      "cell_type": "code",
      "execution_count": 2,
      "metadata": {
        "pycharm": {}
      },
      "outputs": [],
      "source": [
        "DEVICES_PATH \u003d \"all_devices.csv\"\n",
        "SESSIONS_PATH \u003d \"all_sessions.csv\""
      ]
    },
    {
      "cell_type": "markdown",
      "metadata": {
        "pycharm": {}
      },
      "source": [
        "## Read the data"
      ]
    },
    {
      "cell_type": "code",
      "execution_count": 3,
      "metadata": {
        "pycharm": {}
      },
      "outputs": [
        {
          "data": {
            "text/html": [
              "\u003cdiv\u003e\n",
              "\u003cstyle scoped\u003e\n",
              "    .dataframe tbody tr th:only-of-type {\n",
              "        vertical-align: middle;\n",
              "    }\n",
              "\n",
              "    .dataframe tbody tr th {\n",
              "        vertical-align: top;\n",
              "    }\n",
              "\n",
              "    .dataframe thead th {\n",
              "        text-align: right;\n",
              "    }\n",
              "\u003c/style\u003e\n",
              "\u003ctable border\u003d\"1\" class\u003d\"dataframe\"\u003e\n",
              "  \u003cthead\u003e\n",
              "    \u003ctr style\u003d\"text-align: right;\"\u003e\n",
              "      \u003cth\u003e\u003c/th\u003e\n",
              "      \u003cth\u003eUnnamed: 0\u003c/th\u003e\n",
              "      \u003cth\u003enetwork_id\u003c/th\u003e\n",
              "      \u003cth\u003edevice_id\u003c/th\u003e\n",
              "      \u003cth\u003etype\u003c/th\u003e\n",
              "      \u003cth\u003emodel\u003c/th\u003e\n",
              "      \u003cth\u003emanufacturer\u003c/th\u003e\n",
              "      \u003cth\u003eoperating_system\u003c/th\u003e\n",
              "      \u003cth\u003eoperating_system_version\u003c/th\u003e\n",
              "    \u003c/tr\u003e\n",
              "  \u003c/thead\u003e\n",
              "  \u003ctbody\u003e\n",
              "    \u003ctr\u003e\n",
              "      \u003cth\u003e0\u003c/th\u003e\n",
              "      \u003ctd\u003e113\u003c/td\u003e\n",
              "      \u003ctd\u003e0\u003c/td\u003e\n",
              "      \u003ctd\u003e1028623\u003c/td\u003e\n",
              "      \u003ctd\u003eMOBILE_PHONE\u003c/td\u003e\n",
              "      \u003ctd\u003eGalaxy S8\u003c/td\u003e\n",
              "      \u003ctd\u003eSamsung\u003c/td\u003e\n",
              "      \u003ctd\u003eAndroid\u003c/td\u003e\n",
              "      \u003ctd\u003e9\u003c/td\u003e\n",
              "    \u003c/tr\u003e\n",
              "    \u003ctr\u003e\n",
              "      \u003cth\u003e1\u003c/th\u003e\n",
              "      \u003ctd\u003e587\u003c/td\u003e\n",
              "      \u003ctd\u003e0\u003c/td\u003e\n",
              "      \u003ctd\u003e48047\u003c/td\u003e\n",
              "      \u003ctd\u003eMOBILE_PHONE\u003c/td\u003e\n",
              "      \u003ctd\u003eGalaxy Note 8\u003c/td\u003e\n",
              "      \u003ctd\u003eSamsung\u003c/td\u003e\n",
              "      \u003ctd\u003eAndroid\u003c/td\u003e\n",
              "      \u003ctd\u003e9\u003c/td\u003e\n",
              "    \u003c/tr\u003e\n",
              "    \u003ctr\u003e\n",
              "      \u003cth\u003e2\u003c/th\u003e\n",
              "      \u003ctd\u003e668\u003c/td\u003e\n",
              "      \u003ctd\u003e0\u003c/td\u003e\n",
              "      \u003ctd\u003e123568\u003c/td\u003e\n",
              "      \u003ctd\u003eMOBILE_PHONE\u003c/td\u003e\n",
              "      \u003ctd\u003eH918\u003c/td\u003e\n",
              "      \u003ctd\u003eLG Electronics\u003c/td\u003e\n",
              "      \u003ctd\u003eAndroid\u003c/td\u003e\n",
              "      \u003ctd\u003e8.0.0\u003c/td\u003e\n",
              "    \u003c/tr\u003e\n",
              "    \u003ctr\u003e\n",
              "      \u003cth\u003e3\u003c/th\u003e\n",
              "      \u003ctd\u003e830\u003c/td\u003e\n",
              "      \u003ctd\u003e0\u003c/td\u003e\n",
              "      \u003ctd\u003e95366\u003c/td\u003e\n",
              "      \u003ctd\u003eMOBILE_PHONE\u003c/td\u003e\n",
              "      \u003ctd\u003eiPhone 6\u003c/td\u003e\n",
              "      \u003ctd\u003eApple, Inc.\u003c/td\u003e\n",
              "      \u003ctd\u003eiOS\u003c/td\u003e\n",
              "      \u003ctd\u003eNaN\u003c/td\u003e\n",
              "    \u003c/tr\u003e\n",
              "    \u003ctr\u003e\n",
              "      \u003cth\u003e4\u003c/th\u003e\n",
              "      \u003ctd\u003e886\u003c/td\u003e\n",
              "      \u003ctd\u003e0\u003c/td\u003e\n",
              "      \u003ctd\u003e1755023\u003c/td\u003e\n",
              "      \u003ctd\u003eTABLET\u003c/td\u003e\n",
              "      \u003ctd\u003eiPad\u003c/td\u003e\n",
              "      \u003ctd\u003eApple\u003c/td\u003e\n",
              "      \u003ctd\u003eiOS\u003c/td\u003e\n",
              "      \u003ctd\u003eNaN\u003c/td\u003e\n",
              "    \u003c/tr\u003e\n",
              "  \u003c/tbody\u003e\n",
              "\u003c/table\u003e\n",
              "\u003c/div\u003e"
            ],
            "text/plain": [
              "   Unnamed: 0  network_id  device_id          type          model  \\\n",
              "0         113           0    1028623  MOBILE_PHONE      Galaxy S8   \n",
              "1         587           0      48047  MOBILE_PHONE  Galaxy Note 8   \n",
              "2         668           0     123568  MOBILE_PHONE           H918   \n",
              "3         830           0      95366  MOBILE_PHONE       iPhone 6   \n",
              "4         886           0    1755023        TABLET           iPad   \n",
              "\n",
              "     manufacturer operating_system operating_system_version  \n",
              "0         Samsung          Android                        9  \n",
              "1         Samsung          Android                        9  \n",
              "2  LG Electronics          Android                    8.0.0  \n",
              "3     Apple, Inc.              iOS                      NaN  \n",
              "4           Apple              iOS                      NaN  "
            ]
          },
          "execution_count": 3,
          "metadata": {},
          "output_type": "execute_result"
        }
      ],
      "source": [
        "devices \u003d pd.read_csv(DEVICES_PATH)\n",
        "devices.head()"
      ]
    },
    {
      "cell_type": "code",
      "execution_count": 4,
      "metadata": {
        "pycharm": {}
      },
      "outputs": [
        {
          "data": {
            "text/html": [
              "\u003cdiv\u003e\n",
              "\u003cstyle scoped\u003e\n",
              "    .dataframe tbody tr th:only-of-type {\n",
              "        vertical-align: middle;\n",
              "    }\n",
              "\n",
              "    .dataframe tbody tr th {\n",
              "        vertical-align: top;\n",
              "    }\n",
              "\n",
              "    .dataframe thead th {\n",
              "        text-align: right;\n",
              "    }\n",
              "\u003c/style\u003e\n",
              "\u003ctable border\u003d\"1\" class\u003d\"dataframe\"\u003e\n",
              "  \u003cthead\u003e\n",
              "    \u003ctr style\u003d\"text-align: right;\"\u003e\n",
              "      \u003cth\u003e\u003c/th\u003e\n",
              "      \u003cth\u003eUnnamed: 0\u003c/th\u003e\n",
              "      \u003cth\u003enetwork_id\u003c/th\u003e\n",
              "      \u003cth\u003edevice_id\u003c/th\u003e\n",
              "      \u003cth\u003etimestamp\u003c/th\u003e\n",
              "      \u003cth\u003ehost\u003c/th\u003e\n",
              "      \u003cth\u003ehost_ip\u003c/th\u003e\n",
              "      \u003cth\u003eport_dst\u003c/th\u003e\n",
              "      \u003cth\u003etransport_protocol\u003c/th\u003e\n",
              "      \u003cth\u003eservice_device_id\u003c/th\u003e\n",
              "      \u003cth\u003epackets_count\u003c/th\u003e\n",
              "      \u003cth\u003e...\u003c/th\u003e\n",
              "      \u003cth\u003eoutbound_packet_size_max\u003c/th\u003e\n",
              "      \u003cth\u003eoutbound_packet_size_min\u003c/th\u003e\n",
              "      \u003cth\u003eoutbound_packet_size_mean\u003c/th\u003e\n",
              "      \u003cth\u003eoutbound_packet_size_median\u003c/th\u003e\n",
              "      \u003cth\u003eoutbound_packet_size_stddev\u003c/th\u003e\n",
              "      \u003cth\u003einbound_packet_size_max\u003c/th\u003e\n",
              "      \u003cth\u003einbound_packet_size_min\u003c/th\u003e\n",
              "      \u003cth\u003einbound_packet_size_mean\u003c/th\u003e\n",
              "      \u003cth\u003einbound_packet_size_median\u003c/th\u003e\n",
              "      \u003cth\u003einbound_packet_size_stddev\u003c/th\u003e\n",
              "    \u003c/tr\u003e\n",
              "  \u003c/thead\u003e\n",
              "  \u003ctbody\u003e\n",
              "    \u003ctr\u003e\n",
              "      \u003cth\u003e0\u003c/th\u003e\n",
              "      \u003ctd\u003e0\u003c/td\u003e\n",
              "      \u003ctd\u003e0\u003c/td\u003e\n",
              "      \u003ctd\u003e35\u003c/td\u003e\n",
              "      \u003ctd\u003e1565074800\u003c/td\u003e\n",
              "      \u003ctd\u003eecbb92cd941972b779d18451b6f96275587941e4cf07a1...\u003c/td\u003e\n",
              "      \u003ctd\u003eecbb92cd941972b779d18451b6f96275587941e4cf07a1...\u003c/td\u003e\n",
              "      \u003ctd\u003e49152\u003c/td\u003e\n",
              "      \u003ctd\u003eTCP\u003c/td\u003e\n",
              "      \u003ctd\u003e790889.0\u003c/td\u003e\n",
              "      \u003ctd\u003e260\u003c/td\u003e\n",
              "      \u003ctd\u003e...\u003c/td\u003e\n",
              "      \u003ctd\u003e93.000000\u003c/td\u003e\n",
              "      \u003ctd\u003e93.000000\u003c/td\u003e\n",
              "      \u003ctd\u003e93.000000\u003c/td\u003e\n",
              "      \u003ctd\u003e93.000000\u003c/td\u003e\n",
              "      \u003ctd\u003e0.000000\u003c/td\u003e\n",
              "      \u003ctd\u003e312.6\u003c/td\u003e\n",
              "      \u003ctd\u003e312.6\u003c/td\u003e\n",
              "      \u003ctd\u003e312.6\u003c/td\u003e\n",
              "      \u003ctd\u003e312.6\u003c/td\u003e\n",
              "      \u003ctd\u003e0.0\u003c/td\u003e\n",
              "    \u003c/tr\u003e\n",
              "    \u003ctr\u003e\n",
              "      \u003cth\u003e1\u003c/th\u003e\n",
              "      \u003ctd\u003e1\u003c/td\u003e\n",
              "      \u003ctd\u003e0\u003c/td\u003e\n",
              "      \u003ctd\u003e35\u003c/td\u003e\n",
              "      \u003ctd\u003e1565053200\u003c/td\u003e\n",
              "      \u003ctd\u003e90cf529b11c8f26efbb3936c7d10a5bf57c1a930603af0...\u003c/td\u003e\n",
              "      \u003ctd\u003e90cf529b11c8f26efbb3936c7d10a5bf57c1a930603af0...\u003c/td\u003e\n",
              "      \u003ctd\u003e49153\u003c/td\u003e\n",
              "      \u003ctd\u003eTCP\u003c/td\u003e\n",
              "      \u003ctd\u003e1604622.0\u003c/td\u003e\n",
              "      \u003ctd\u003e178\u003c/td\u003e\n",
              "      \u003ctd\u003e...\u003c/td\u003e\n",
              "      \u003ctd\u003e106.750000\u003c/td\u003e\n",
              "      \u003ctd\u003e93.400000\u003c/td\u003e\n",
              "      \u003ctd\u003e94.883333\u003c/td\u003e\n",
              "      \u003ctd\u003e93.000000\u003c/td\u003e\n",
              "      \u003ctd\u003e4.317134\u003c/td\u003e\n",
              "      \u003ctd\u003e318.4\u003c/td\u003e\n",
              "      \u003ctd\u003e318.4\u003c/td\u003e\n",
              "      \u003ctd\u003e318.4\u003c/td\u003e\n",
              "      \u003ctd\u003e318.0\u003c/td\u003e\n",
              "      \u003ctd\u003e0.0\u003c/td\u003e\n",
              "    \u003c/tr\u003e\n",
              "    \u003ctr\u003e\n",
              "      \u003cth\u003e2\u003c/th\u003e\n",
              "      \u003ctd\u003e2\u003c/td\u003e\n",
              "      \u003ctd\u003e0\u003c/td\u003e\n",
              "      \u003ctd\u003e57\u003c/td\u003e\n",
              "      \u003ctd\u003e1565082000\u003c/td\u003e\n",
              "      \u003ctd\u003ee16257c983f2c35d41f39d425651972fa1905e46e968d7...\u003c/td\u003e\n",
              "      \u003ctd\u003ed43dad76e6cef2231d2efc743e498996b40f8b13fc120b...\u003c/td\u003e\n",
              "      \u003ctd\u003e443\u003c/td\u003e\n",
              "      \u003ctd\u003eTCP\u003c/td\u003e\n",
              "      \u003ctd\u003eNaN\u003c/td\u003e\n",
              "      \u003ctd\u003e67\u003c/td\u003e\n",
              "      \u003ctd\u003e...\u003c/td\u003e\n",
              "      \u003ctd\u003e64.018182\u003c/td\u003e\n",
              "      \u003ctd\u003e41.000000\u003c/td\u003e\n",
              "      \u003ctd\u003e44.288312\u003c/td\u003e\n",
              "      \u003ctd\u003e41.000000\u003c/td\u003e\n",
              "      \u003ctd\u003e8.700055\u003c/td\u003e\n",
              "      \u003ctd\u003eNaN\u003c/td\u003e\n",
              "      \u003ctd\u003eNaN\u003c/td\u003e\n",
              "      \u003ctd\u003eNaN\u003c/td\u003e\n",
              "      \u003ctd\u003eNaN\u003c/td\u003e\n",
              "      \u003ctd\u003eNaN\u003c/td\u003e\n",
              "    \u003c/tr\u003e\n",
              "    \u003ctr\u003e\n",
              "      \u003cth\u003e3\u003c/th\u003e\n",
              "      \u003ctd\u003e3\u003c/td\u003e\n",
              "      \u003ctd\u003e0\u003c/td\u003e\n",
              "      \u003ctd\u003e57\u003c/td\u003e\n",
              "      \u003ctd\u003e1565082000\u003c/td\u003e\n",
              "      \u003ctd\u003e1a4f860269acca6c264f00d84c4b63aad00b8f93a77250...\u003c/td\u003e\n",
              "      \u003ctd\u003e945e37dab8aee93dd4e650f8d17d76a3adfbc6aa70ebba...\u003c/td\u003e\n",
              "      \u003ctd\u003e443\u003c/td\u003e\n",
              "      \u003ctd\u003eTCP\u003c/td\u003e\n",
              "      \u003ctd\u003eNaN\u003c/td\u003e\n",
              "      \u003ctd\u003e45\u003c/td\u003e\n",
              "      \u003ctd\u003e...\u003c/td\u003e\n",
              "      \u003ctd\u003e226.733333\u003c/td\u003e\n",
              "      \u003ctd\u003e133.571429\u003c/td\u003e\n",
              "      \u003ctd\u003e194.968236\u003c/td\u003e\n",
              "      \u003ctd\u003e209.000000\u003c/td\u003e\n",
              "      \u003ctd\u003e41.777266\u003c/td\u003e\n",
              "      \u003ctd\u003eNaN\u003c/td\u003e\n",
              "      \u003ctd\u003eNaN\u003c/td\u003e\n",
              "      \u003ctd\u003eNaN\u003c/td\u003e\n",
              "      \u003ctd\u003eNaN\u003c/td\u003e\n",
              "      \u003ctd\u003eNaN\u003c/td\u003e\n",
              "    \u003c/tr\u003e\n",
              "    \u003ctr\u003e\n",
              "      \u003cth\u003e4\u003c/th\u003e\n",
              "      \u003ctd\u003e4\u003c/td\u003e\n",
              "      \u003ctd\u003e0\u003c/td\u003e\n",
              "      \u003ctd\u003e57\u003c/td\u003e\n",
              "      \u003ctd\u003e1565082000\u003c/td\u003e\n",
              "      \u003ctd\u003edf106cbe1ba4a700c00ec8883490f40a8afdb75c15a9ea...\u003c/td\u003e\n",
              "      \u003ctd\u003e4b43e85e630c2d18a0afaa2a6366367c4fc52d32b4ba5b...\u003c/td\u003e\n",
              "      \u003ctd\u003e443\u003c/td\u003e\n",
              "      \u003ctd\u003eTCP\u003c/td\u003e\n",
              "      \u003ctd\u003eNaN\u003c/td\u003e\n",
              "      \u003ctd\u003e9\u003c/td\u003e\n",
              "      \u003ctd\u003e...\u003c/td\u003e\n",
              "      \u003ctd\u003e185.666667\u003c/td\u003e\n",
              "      \u003ctd\u003e185.666667\u003c/td\u003e\n",
              "      \u003ctd\u003e185.666667\u003c/td\u003e\n",
              "      \u003ctd\u003e185.666667\u003c/td\u003e\n",
              "      \u003ctd\u003eNaN\u003c/td\u003e\n",
              "      \u003ctd\u003eNaN\u003c/td\u003e\n",
              "      \u003ctd\u003eNaN\u003c/td\u003e\n",
              "      \u003ctd\u003eNaN\u003c/td\u003e\n",
              "      \u003ctd\u003eNaN\u003c/td\u003e\n",
              "      \u003ctd\u003eNaN\u003c/td\u003e\n",
              "    \u003c/tr\u003e\n",
              "  \u003c/tbody\u003e\n",
              "\u003c/table\u003e\n",
              "\u003cp\u003e5 rows × 38 columns\u003c/p\u003e\n",
              "\u003c/div\u003e"
            ],
            "text/plain": [
              "   Unnamed: 0  network_id  device_id   timestamp  \\\n",
              "0           0           0         35  1565074800   \n",
              "1           1           0         35  1565053200   \n",
              "2           2           0         57  1565082000   \n",
              "3           3           0         57  1565082000   \n",
              "4           4           0         57  1565082000   \n",
              "\n",
              "                                                host  \\\n",
              "0  ecbb92cd941972b779d18451b6f96275587941e4cf07a1...   \n",
              "1  90cf529b11c8f26efbb3936c7d10a5bf57c1a930603af0...   \n",
              "2  e16257c983f2c35d41f39d425651972fa1905e46e968d7...   \n",
              "3  1a4f860269acca6c264f00d84c4b63aad00b8f93a77250...   \n",
              "4  df106cbe1ba4a700c00ec8883490f40a8afdb75c15a9ea...   \n",
              "\n",
              "                                             host_ip  port_dst  \\\n",
              "0  ecbb92cd941972b779d18451b6f96275587941e4cf07a1...     49152   \n",
              "1  90cf529b11c8f26efbb3936c7d10a5bf57c1a930603af0...     49153   \n",
              "2  d43dad76e6cef2231d2efc743e498996b40f8b13fc120b...       443   \n",
              "3  945e37dab8aee93dd4e650f8d17d76a3adfbc6aa70ebba...       443   \n",
              "4  4b43e85e630c2d18a0afaa2a6366367c4fc52d32b4ba5b...       443   \n",
              "\n",
              "  transport_protocol  service_device_id  packets_count  ...  \\\n",
              "0                TCP           790889.0            260  ...   \n",
              "1                TCP          1604622.0            178  ...   \n",
              "2                TCP                NaN             67  ...   \n",
              "3                TCP                NaN             45  ...   \n",
              "4                TCP                NaN              9  ...   \n",
              "\n",
              "   outbound_packet_size_max  outbound_packet_size_min  \\\n",
              "0                 93.000000                 93.000000   \n",
              "1                106.750000                 93.400000   \n",
              "2                 64.018182                 41.000000   \n",
              "3                226.733333                133.571429   \n",
              "4                185.666667                185.666667   \n",
              "\n",
              "   outbound_packet_size_mean  outbound_packet_size_median  \\\n",
              "0                  93.000000                    93.000000   \n",
              "1                  94.883333                    93.000000   \n",
              "2                  44.288312                    41.000000   \n",
              "3                 194.968236                   209.000000   \n",
              "4                 185.666667                   185.666667   \n",
              "\n",
              "   outbound_packet_size_stddev  inbound_packet_size_max  \\\n",
              "0                     0.000000                    312.6   \n",
              "1                     4.317134                    318.4   \n",
              "2                     8.700055                      NaN   \n",
              "3                    41.777266                      NaN   \n",
              "4                          NaN                      NaN   \n",
              "\n",
              "   inbound_packet_size_min  inbound_packet_size_mean  \\\n",
              "0                    312.6                     312.6   \n",
              "1                    318.4                     318.4   \n",
              "2                      NaN                       NaN   \n",
              "3                      NaN                       NaN   \n",
              "4                      NaN                       NaN   \n",
              "\n",
              "   inbound_packet_size_median  inbound_packet_size_stddev  \n",
              "0                       312.6                         0.0  \n",
              "1                       318.0                         0.0  \n",
              "2                         NaN                         NaN  \n",
              "3                         NaN                         NaN  \n",
              "4                         NaN                         NaN  \n",
              "\n",
              "[5 rows x 38 columns]"
            ]
          },
          "execution_count": 4,
          "metadata": {},
          "output_type": "execute_result"
        }
      ],
      "source": [
        "sessions \u003d pd.read_csv(SESSIONS_PATH)\n",
        "sessions.head()"
      ]
    },
    {
      "cell_type": "markdown",
      "metadata": {
        "pycharm": {}
      },
      "source": [
        "# Generate Feature Set"
      ]
    },
    {
      "cell_type": "markdown",
      "metadata": {
        "pycharm": {}
      },
      "source": [
        "As we mentioned before we are going to select only 5 features: unique hosts count, unique port count,  total packets transferred, total inbound bytes and total outbound bytes. Lets create the feature set for each network"
      ]
    },
    {
      "cell_type": "code",
      "execution_count": 5,
      "metadata": {
        "pycharm": {}
      },
      "outputs": [],
      "source": [
        "def extract_features(df):\n",
        "    return df.groupby([\"device_id\"]).aggregate({\"host\": \"nunique\", \"port_dst\": \"nunique\", \n",
        "                                                \"packets_count\": \"sum\", \"inbound_bytes_count\": \"sum\", \n",
        "                                                \"outbound_bytes_count\": \"sum\"})\n"
      ]
    },
    {
      "cell_type": "code",
      "execution_count": 6,
      "metadata": {
        "pycharm": {}
      },
      "outputs": [],
      "source": [
        "networks_fs \u003d []"
      ]
    },
    {
      "cell_type": "code",
      "execution_count": 7,
      "metadata": {
        "pycharm": {}
      },
      "outputs": [],
      "source": [
        "for i in range(4):\n",
        "    networks_fs.append(extract_features(sessions[sessions.network_id \u003d\u003d i]))"
      ]
    },
    {
      "cell_type": "markdown",
      "metadata": {
        "pycharm": {}
      },
      "source": [
        "# Modeling Fun"
      ]
    },
    {
      "cell_type": "markdown",
      "metadata": {
        "pycharm": {}
      },
      "source": [
        "As we\u0027ve mentioned we used the Elliptic Envelope model for our anomaly detection. We use the decision_function in order to receive the confidence and we normalize the values to values between 0 and 1."
      ]
    },
    {
      "cell_type": "code",
      "execution_count": 8,
      "metadata": {
        "pycharm": {}
      },
      "outputs": [],
      "source": [
        "from sklearn.covariance import EllipticEnvelope"
      ]
    },
    {
      "cell_type": "code",
      "execution_count": 9,
      "metadata": {
        "pycharm": {}
      },
      "outputs": [],
      "source": [
        "# We use the simple min-max normalization in order to normalize the confidence values to 0-1 range.\n",
        "# Higher score means that this device is probably more anomalous.\n",
        "def calc_normalized_decision(decision_function_result):\n",
        "    decision_function_result \u003d -1 * decision_function_result\n",
        "    minimum \u003d decision_function_result.min()\n",
        "    maximum \u003d decision_function_result.max()\n",
        "    return (decision_function_result - minimum) / (maximum - minimum)"
      ]
    },
    {
      "cell_type": "code",
      "execution_count": 10,
      "metadata": {
        "pycharm": {}
      },
      "outputs": [],
      "source": [
        "def detect_anomalies(feature_set):\n",
        "    ee \u003d EllipticEnvelope(contamination\u003d0.05).fit(feature_set.values)\n",
        "    decision_function_result \u003d ee.decision_function(feature_set.values)\n",
        "    feature_set[\"confidence\"] \u003d calc_normalized_decision(decision_function_result)"
      ]
    },
    {
      "cell_type": "code",
      "execution_count": 11,
      "metadata": {
        "scrolled": true,
        "pycharm": {}
      },
      "outputs": [],
      "source": [
        "for i in range(4):\n",
        "    detect_anomalies(networks_fs[i])"
      ]
    },
    {
      "cell_type": "code",
      "execution_count": 12,
      "metadata": {
        "pycharm": {}
      },
      "outputs": [],
      "source": [
        "# Remove the device_id from index and Add network id to each data set\n",
        "for i in range(4):\n",
        "    networks_fs[i].reset_index(level\u003d0, inplace\u003dTrue)\n",
        "    networks_fs[i][\"network_id\"] \u003d 0"
      ]
    },
    {
      "cell_type": "code",
      "execution_count": 13,
      "metadata": {
        "pycharm": {}
      },
      "outputs": [
        {
          "data": {
            "text/html": [
              "\u003cdiv\u003e\n",
              "\u003cstyle scoped\u003e\n",
              "    .dataframe tbody tr th:only-of-type {\n",
              "        vertical-align: middle;\n",
              "    }\n",
              "\n",
              "    .dataframe tbody tr th {\n",
              "        vertical-align: top;\n",
              "    }\n",
              "\n",
              "    .dataframe thead th {\n",
              "        text-align: right;\n",
              "    }\n",
              "\u003c/style\u003e\n",
              "\u003ctable border\u003d\"1\" class\u003d\"dataframe\"\u003e\n",
              "  \u003cthead\u003e\n",
              "    \u003ctr style\u003d\"text-align: right;\"\u003e\n",
              "      \u003cth\u003e\u003c/th\u003e\n",
              "      \u003cth\u003enetwork_id\u003c/th\u003e\n",
              "      \u003cth\u003edevice_id\u003c/th\u003e\n",
              "      \u003cth\u003econfidence\u003c/th\u003e\n",
              "    \u003c/tr\u003e\n",
              "  \u003c/thead\u003e\n",
              "  \u003ctbody\u003e\n",
              "    \u003ctr\u003e\n",
              "      \u003cth\u003e0\u003c/th\u003e\n",
              "      \u003ctd\u003e0\u003c/td\u003e\n",
              "      \u003ctd\u003e33\u003c/td\u003e\n",
              "      \u003ctd\u003e2.149737e-11\u003c/td\u003e\n",
              "    \u003c/tr\u003e\n",
              "    \u003ctr\u003e\n",
              "      \u003cth\u003e1\u003c/th\u003e\n",
              "      \u003ctd\u003e0\u003c/td\u003e\n",
              "      \u003ctd\u003e35\u003c/td\u003e\n",
              "      \u003ctd\u003e3.652858e-05\u003c/td\u003e\n",
              "    \u003c/tr\u003e\n",
              "    \u003ctr\u003e\n",
              "      \u003cth\u003e2\u003c/th\u003e\n",
              "      \u003ctd\u003e0\u003c/td\u003e\n",
              "      \u003ctd\u003e40\u003c/td\u003e\n",
              "      \u003ctd\u003e1.006346e-02\u003c/td\u003e\n",
              "    \u003c/tr\u003e\n",
              "    \u003ctr\u003e\n",
              "      \u003cth\u003e3\u003c/th\u003e\n",
              "      \u003ctd\u003e0\u003c/td\u003e\n",
              "      \u003ctd\u003e41\u003c/td\u003e\n",
              "      \u003ctd\u003e2.479184e-10\u003c/td\u003e\n",
              "    \u003c/tr\u003e\n",
              "    \u003ctr\u003e\n",
              "      \u003cth\u003e4\u003c/th\u003e\n",
              "      \u003ctd\u003e0\u003c/td\u003e\n",
              "      \u003ctd\u003e53\u003c/td\u003e\n",
              "      \u003ctd\u003e3.912391e-11\u003c/td\u003e\n",
              "    \u003c/tr\u003e\n",
              "  \u003c/tbody\u003e\n",
              "\u003c/table\u003e\n",
              "\u003c/div\u003e"
            ],
            "text/plain": [
              "   network_id  device_id    confidence\n",
              "0           0         33  2.149737e-11\n",
              "1           0         35  3.652858e-05\n",
              "2           0         40  1.006346e-02\n",
              "3           0         41  2.479184e-10\n",
              "4           0         53  3.912391e-11"
            ]
          },
          "execution_count": 13,
          "metadata": {},
          "output_type": "execute_result"
        }
      ],
      "source": [
        "df_to_submit \u003d pd.concat(networks_fs)[[\"network_id\", \"device_id\", \"confidence\"]] # The column order is important!\n",
        "df_to_submit.head()"
      ]
    },
    {
      "cell_type": "markdown",
      "metadata": {
        "pycharm": {}
      },
      "source": [
        "# Submissions"
      ]
    },
    {
      "cell_type": "markdown",
      "metadata": {
        "pycharm": {}
      },
      "source": [
        "In order to update the Leader Board you need to send a POST request to following url: \"https://leaderboard.datahack.org.il/armis/api/\". Our Leader Board receives your anomalies results in the json form of [[\"network_id\", \"device_id\", \"confidence\"]] - The order is important!"
      ]
    },
    {
      "cell_type": "code",
      "execution_count": 14,
      "metadata": {
        "pycharm": {}
      },
      "outputs": [],
      "source": [
        "arr_to_submit \u003d df_to_submit.to_json(orient\u003d\u0027values\u0027)"
      ]
    },
    {
      "cell_type": "code",
      "execution_count": 15,
      "metadata": {
        "pycharm": {}
      },
      "outputs": [
        {
          "name": "stdout",
          "output_type": "stream",
          "text": [
            "{\u0027member\u0027: \u0027Armis-test\u0027, \u0027rank\u0027: 2, \u0027score\u0027: 0.5648161775508931}\n"
          ]
        }
      ],
      "source": [
        "from urllib import request\n",
        "import json\n",
        "\n",
        "leaderboard_name \u003d \"armis\"\n",
        "host \u003d \"leaderboard.datahack.org.il\"\n",
        "\n",
        "# Name of the user\n",
        "submitter \u003d \"Armis-test\"\n",
        "\n",
        "predictions \u003d json.loads(arr_to_submit)\n",
        "\n",
        "jsonStr \u003d json.dumps({\u0027submitter\u0027: submitter, \u0027predictions\u0027: predictions})\n",
        "data \u003d jsonStr.encode(\u0027utf-8\u0027)\n",
        "req \u003d request.Request(f\"https://{host}/{leaderboard_name}/api/\",\n",
        "                      headers\u003d{\u0027Content-Type\u0027: \u0027application/json\u0027},\n",
        "                      data\u003ddata)\n",
        "resp \u003d request.urlopen(req)\n",
        "print(json.load(resp))"
      ]
    }
  ],
  "metadata": {
    "kernelspec": {
      "display_name": "Python 3",
      "language": "python",
      "name": "python3"
    },
    "language_info": {
      "codemirror_mode": {
        "name": "ipython",
        "version": 3
      },
      "file_extension": ".py",
      "mimetype": "text/x-python",
      "name": "python",
      "nbconvert_exporter": "python",
      "pygments_lexer": "ipython3",
      "version": "3.7.1"
    }
  },
  "nbformat": 4,
  "nbformat_minor": 2
}